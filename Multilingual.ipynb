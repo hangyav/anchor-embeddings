{
  "nbformat": 4,
  "nbformat_minor": 0,
  "metadata": {
    "colab": {
      "provenance": []
    },
    "kernelspec": {
      "name": "python3",
      "display_name": "Python 3"
    },
    "language_info": {
      "name": "python"
    },
    "accelerator": "GPU",
    "gpuClass": "standard"
  },
  "cells": [
    {
      "cell_type": "markdown",
      "source": [
        "# Load libraries"
      ],
      "metadata": {
        "id": "PiPYLl-VGpD3"
      }
    },
    {
      "cell_type": "code",
      "source": [
        "!pip install wikiextractor blingfire\n",
        "\n",
        "import gensim\n",
        "from gensim.models import Word2Vec\n",
        "import os "
      ],
      "metadata": {
        "id": "LTHOSKgiGnBr",
        "colab": {
          "base_uri": "https://localhost:8080/"
        },
        "outputId": "723ea8e3-e683-47f0-86e3-f9e5f2a5efc7"
      },
      "execution_count": null,
      "outputs": [
        {
          "output_type": "stream",
          "name": "stdout",
          "text": [
            "Looking in indexes: https://pypi.org/simple, https://us-python.pkg.dev/colab-wheels/public/simple/\n",
            "Requirement already satisfied: wikiextractor in /usr/local/lib/python3.8/dist-packages (3.0.6)\n",
            "Collecting blingfire\n",
            "  Downloading blingfire-0.1.8-py3-none-any.whl (42.1 MB)\n",
            "\u001b[K     |████████████████████████████████| 42.1 MB 1.8 MB/s \n",
            "\u001b[?25hInstalling collected packages: blingfire\n",
            "Successfully installed blingfire-0.1.8\n"
          ]
        }
      ]
    },
    {
      "cell_type": "markdown",
      "source": [
        "# Unzip wiki dumps (takes a while)\n",
        "\n",
        "Hint: change the directory!"
      ],
      "metadata": {
        "id": "70_UTsM2Gn5f"
      }
    },
    {
      "cell_type": "code",
      "source": [
        "!wget https://dumps.wikimedia.org/idwiki/latest/idwiki-latest-pages-articles.xml.bz2"
      ],
      "metadata": {
        "id": "Fq6qRZIt_3HO",
        "colab": {
          "base_uri": "https://localhost:8080/"
        },
        "outputId": "8544670a-2f3d-4225-c875-628501880b46"
      },
      "execution_count": null,
      "outputs": [
        {
          "output_type": "stream",
          "name": "stdout",
          "text": [
            "--2022-12-15 12:50:58--  https://dumps.wikimedia.org/idwiki/latest/idwiki-latest-pages-articles.xml.bz2\n",
            "Resolving dumps.wikimedia.org (dumps.wikimedia.org)... 208.80.154.142, 2620:0:861:2:208:80:154:142\n",
            "Connecting to dumps.wikimedia.org (dumps.wikimedia.org)|208.80.154.142|:443... connected.\n",
            "HTTP request sent, awaiting response... 200 OK\n",
            "Length: 810800523 (773M) [application/octet-stream]\n",
            "Saving to: ‘idwiki-latest-pages-articles.xml.bz2’\n",
            "\n",
            "idwiki-latest-pages 100%[===================>] 773.24M  4.11MB/s    in 3m 8s   \n",
            "\n",
            "2022-12-15 12:54:06 (4.12 MB/s) - ‘idwiki-latest-pages-articles.xml.bz2’ saved [810800523/810800523]\n",
            "\n"
          ]
        }
      ]
    },
    {
      "cell_type": "code",
      "source": [
        "!bzip2 -d idwiki-latest-pages-articles.xml.bz2"
      ],
      "metadata": {
        "id": "MjTQaH4ZGlB5"
      },
      "execution_count": null,
      "outputs": []
    },
    {
      "cell_type": "code",
      "source": [
        "!sh extract_and_clean_wiki_dump.sh idwiki-latest-pages-articles.xml"
      ],
      "metadata": {
        "colab": {
          "base_uri": "https://localhost:8080/"
        },
        "id": "KHnYFvP30-MN",
        "outputId": "567ecf39-1b31-4a2a-cc47-7487e4ee5c7f"
      },
      "execution_count": null,
      "outputs": [
        {
          "output_type": "stream",
          "name": "stdout",
          "text": [
            "Cloning into 'wikiextractor'...\n",
            "remote: Enumerating objects: 766, done.\u001b[K\n",
            "remote: Counting objects: 100% (25/25), done.\u001b[K\n",
            "remote: Compressing objects: 100% (15/15), done.\u001b[K\n",
            "remote: Total 766 (delta 13), reused 19 (delta 10), pack-reused 741\u001b[K\n",
            "Receiving objects: 100% (766/766), 1.31 MiB | 23.98 MiB/s, done.\n",
            "Resolving deltas: 100% (446/446), done.\n",
            "Extracting and cleaning idwiki-latest-pages-articles.xml to idwiki-latest-pages-articles.txt...\n",
            "Succesfully extracted and cleaned idwiki-latest-pages-articles.xml to idwiki-latest-pages-articles.txt\n"
          ]
        }
      ]
    },
    {
      "cell_type": "code",
      "source": [
        "!python preprocess_wiki_dump.py idwiki-latest-pages-articles.txt"
      ],
      "metadata": {
        "colab": {
          "base_uri": "https://localhost:8080/"
        },
        "id": "wTlnZ5ds1FTQ",
        "outputId": "013ea886-67ba-4cb4-a1b0-2aab471618cc"
      },
      "execution_count": null,
      "outputs": [
        {
          "output_type": "stream",
          "name": "stdout",
          "text": [
            "Pre-processing idwiki-latest-pages-articles.txt to idwiki-latest-pages-articles_preprocessed.txt...\n",
            "Successfully pre-processed idwiki-latest-pages-articles.txt to idwiki-latest-pages-articles_preprocessed.txt...\n"
          ]
        }
      ]
    },
    {
      "cell_type": "code",
      "source": [
        "#!python train_embeddings.py tlwiki-latest-pages-articles.txt es_model.model"
      ],
      "metadata": {
        "id": "ggHelCRF1Hzt"
      },
      "execution_count": null,
      "outputs": []
    },
    {
      "cell_type": "markdown",
      "source": [
        "# Scrape panlex\n"
      ],
      "metadata": {
        "id": "jo7_qjcHHnRo"
      }
    },
    {
      "cell_type": "code",
      "source": [
        "import pandas as pd\n",
        "import numpy as np\n",
        "import matplotlib.pyplot as plt\n",
        "from unicodedata import normalize\n",
        "\n",
        "\n",
        "def scrape_panlex_tables(URL, pages=1, columns=['Source', 'Target']):\n",
        "  table = pd.DataFrame([])\n",
        "  for i in range(pages):\n",
        "    scraped_tables = pd.read_html(URL+str(i),)\n",
        "    if scraped_tables:\n",
        "      table = pd.concat([table, scraped_tables[0]], axis=0)\n",
        "  return table.rename(columns={'Unnamed: 0':'Source', 'Unnamed: 1': 'Target'})    \n",
        "\n",
        "\n",
        "URL = \"https://vocab.panlex.org/tgl-000/eng-000?page=\"\n",
        "\n",
        "\n",
        "table = scrape_panlex_tables(URL, 300, columns=['EN', 'TL'])"
      ],
      "metadata": {
        "id": "sa7aMhR8LXR-"
      },
      "execution_count": 20,
      "outputs": []
    },
    {
      "cell_type": "code",
      "source": [
        "table_MN = table.drop(['EN', 'TL'], axis=1).dropna().drop_duplicates()\n",
        "table_MN = table_MN[table_MN['Source'] != table_MN['Target']]\n",
        "table_MN = table_MN[~table_MN['Source'].str.contains(' ')]\n",
        "table_MN = table_MN[~table_MN['Target'].str.contains(' ')]\n",
        "table_MN = table_MN[~((table_MN['Source']=='Tagalog') & (table_MN['Target']=='English'))]\n",
        "table_MN.to_csv('tl_en_dict.txt', sep=' ',index=False, header=False)"
      ],
      "metadata": {
        "id": "JbpE_btXm8_N"
      },
      "execution_count": 57,
      "outputs": []
    },
    {
      "cell_type": "code",
      "source": [
        "table_MN[['Target', 'Source']].to_csv('tl_en_dict.txt', sep=' ',index=False, header=False)"
      ],
      "metadata": {
        "id": "cUgpKwBynSmf"
      },
      "execution_count": 59,
      "outputs": []
    },
    {
      "cell_type": "code",
      "source": [],
      "metadata": {
        "id": "n7v2jKAesfSt"
      },
      "execution_count": 42,
      "outputs": []
    },
    {
      "cell_type": "code",
      "source": [],
      "metadata": {
        "colab": {
          "base_uri": "https://localhost:8080/",
          "height": 144
        },
        "id": "l-Omtso6tiOt",
        "outputId": "de4f19c6-7230-47ab-920b-51baaa0b1278"
      },
      "execution_count": 54,
      "outputs": [
        {
          "output_type": "execute_result",
          "data": {
            "text/plain": [
              "       Source   Target\n",
              "44    english  English\n",
              "22  Inglatero  English\n",
              "24     ingles  English"
            ],
            "text/html": [
              "\n",
              "  <div id=\"df-9e1d788d-ad06-4edf-b211-00a242cef55c\">\n",
              "    <div class=\"colab-df-container\">\n",
              "      <div>\n",
              "<style scoped>\n",
              "    .dataframe tbody tr th:only-of-type {\n",
              "        vertical-align: middle;\n",
              "    }\n",
              "\n",
              "    .dataframe tbody tr th {\n",
              "        vertical-align: top;\n",
              "    }\n",
              "\n",
              "    .dataframe thead th {\n",
              "        text-align: right;\n",
              "    }\n",
              "</style>\n",
              "<table border=\"1\" class=\"dataframe\">\n",
              "  <thead>\n",
              "    <tr style=\"text-align: right;\">\n",
              "      <th></th>\n",
              "      <th>Source</th>\n",
              "      <th>Target</th>\n",
              "    </tr>\n",
              "  </thead>\n",
              "  <tbody>\n",
              "    <tr>\n",
              "      <th>44</th>\n",
              "      <td>english</td>\n",
              "      <td>English</td>\n",
              "    </tr>\n",
              "    <tr>\n",
              "      <th>22</th>\n",
              "      <td>Inglatero</td>\n",
              "      <td>English</td>\n",
              "    </tr>\n",
              "    <tr>\n",
              "      <th>24</th>\n",
              "      <td>ingles</td>\n",
              "      <td>English</td>\n",
              "    </tr>\n",
              "  </tbody>\n",
              "</table>\n",
              "</div>\n",
              "      <button class=\"colab-df-convert\" onclick=\"convertToInteractive('df-9e1d788d-ad06-4edf-b211-00a242cef55c')\"\n",
              "              title=\"Convert this dataframe to an interactive table.\"\n",
              "              style=\"display:none;\">\n",
              "        \n",
              "  <svg xmlns=\"http://www.w3.org/2000/svg\" height=\"24px\"viewBox=\"0 0 24 24\"\n",
              "       width=\"24px\">\n",
              "    <path d=\"M0 0h24v24H0V0z\" fill=\"none\"/>\n",
              "    <path d=\"M18.56 5.44l.94 2.06.94-2.06 2.06-.94-2.06-.94-.94-2.06-.94 2.06-2.06.94zm-11 1L8.5 8.5l.94-2.06 2.06-.94-2.06-.94L8.5 2.5l-.94 2.06-2.06.94zm10 10l.94 2.06.94-2.06 2.06-.94-2.06-.94-.94-2.06-.94 2.06-2.06.94z\"/><path d=\"M17.41 7.96l-1.37-1.37c-.4-.4-.92-.59-1.43-.59-.52 0-1.04.2-1.43.59L10.3 9.45l-7.72 7.72c-.78.78-.78 2.05 0 2.83L4 21.41c.39.39.9.59 1.41.59.51 0 1.02-.2 1.41-.59l7.78-7.78 2.81-2.81c.8-.78.8-2.07 0-2.86zM5.41 20L4 18.59l7.72-7.72 1.47 1.35L5.41 20z\"/>\n",
              "  </svg>\n",
              "      </button>\n",
              "      \n",
              "  <style>\n",
              "    .colab-df-container {\n",
              "      display:flex;\n",
              "      flex-wrap:wrap;\n",
              "      gap: 12px;\n",
              "    }\n",
              "\n",
              "    .colab-df-convert {\n",
              "      background-color: #E8F0FE;\n",
              "      border: none;\n",
              "      border-radius: 50%;\n",
              "      cursor: pointer;\n",
              "      display: none;\n",
              "      fill: #1967D2;\n",
              "      height: 32px;\n",
              "      padding: 0 0 0 0;\n",
              "      width: 32px;\n",
              "    }\n",
              "\n",
              "    .colab-df-convert:hover {\n",
              "      background-color: #E2EBFA;\n",
              "      box-shadow: 0px 1px 2px rgba(60, 64, 67, 0.3), 0px 1px 3px 1px rgba(60, 64, 67, 0.15);\n",
              "      fill: #174EA6;\n",
              "    }\n",
              "\n",
              "    [theme=dark] .colab-df-convert {\n",
              "      background-color: #3B4455;\n",
              "      fill: #D2E3FC;\n",
              "    }\n",
              "\n",
              "    [theme=dark] .colab-df-convert:hover {\n",
              "      background-color: #434B5C;\n",
              "      box-shadow: 0px 1px 3px 1px rgba(0, 0, 0, 0.15);\n",
              "      filter: drop-shadow(0px 1px 2px rgba(0, 0, 0, 0.3));\n",
              "      fill: #FFFFFF;\n",
              "    }\n",
              "  </style>\n",
              "\n",
              "      <script>\n",
              "        const buttonEl =\n",
              "          document.querySelector('#df-9e1d788d-ad06-4edf-b211-00a242cef55c button.colab-df-convert');\n",
              "        buttonEl.style.display =\n",
              "          google.colab.kernel.accessAllowed ? 'block' : 'none';\n",
              "\n",
              "        async function convertToInteractive(key) {\n",
              "          const element = document.querySelector('#df-9e1d788d-ad06-4edf-b211-00a242cef55c');\n",
              "          const dataTable =\n",
              "            await google.colab.kernel.invokeFunction('convertToInteractive',\n",
              "                                                     [key], {});\n",
              "          if (!dataTable) return;\n",
              "\n",
              "          const docLinkHtml = 'Like what you see? Visit the ' +\n",
              "            '<a target=\"_blank\" href=https://colab.research.google.com/notebooks/data_table.ipynb>data table notebook</a>'\n",
              "            + ' to learn more about interactive tables.';\n",
              "          element.innerHTML = '';\n",
              "          dataTable['output_type'] = 'display_data';\n",
              "          await google.colab.output.renderOutput(dataTable, element);\n",
              "          const docLink = document.createElement('div');\n",
              "          docLink.innerHTML = docLinkHtml;\n",
              "          element.appendChild(docLink);\n",
              "        }\n",
              "      </script>\n",
              "    </div>\n",
              "  </div>\n",
              "  "
            ]
          },
          "metadata": {},
          "execution_count": 54
        }
      ]
    },
    {
      "cell_type": "code",
      "source": [],
      "metadata": {
        "id": "TEwUEmA2uY98"
      },
      "execution_count": null,
      "outputs": []
    }
  ]
}